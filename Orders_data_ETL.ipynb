{
 "cells": [
  {
   "cell_type": "code",
   "execution_count": null,
   "metadata": {
    "application/vnd.databricks.v1+cell": {
     "cellMetadata": {
      "byteLimit": 2048000,
      "rowLimit": 10000
     },
     "inputWidgets": {},
     "nuid": "2e0df427-463b-4228-a022-5fff185557d4",
     "showTitle": false,
     "title": ""
    },
    "jupyter": {
     "outputs_hidden": true
    }
   },
   "outputs": [],
   "source": [
    "dbutils.fs.mount(source='wasbs://landing@assignment11storage.blob.core.windows.net',mount_point='/mnt/assignment11/landing',extra_configs={'fs.azure.account.key.assignment11storage.blob.core.windows.net':'QP11eWllyaiGS+Gh/+9E7504MVEEq2zMkl7w/gk+STE2UAwTf877eljhMot0cGSP1dp+I+tozIki+AStNJk7uA=='})"
   ]
  },
  {
   "cell_type": "code",
   "execution_count": null,
   "metadata": {
    "application/vnd.databricks.v1+cell": {
     "cellMetadata": {
      "byteLimit": 2048000,
      "rowLimit": 10000
     },
     "inputWidgets": {},
     "nuid": "acb90344-3a8f-4305-8bf7-933bd6f3535b",
     "showTitle": false,
     "title": ""
    },
    "jupyter": {
     "outputs_hidden": true
    }
   },
   "outputs": [],
   "source": [
    "dbutils.fs.mount(source='wasbs://staging@assignment11storage.blob.core.windows.net',mount_point='/mnt/assignment11/staging',extra_configs={'fs.azure.account.key.assignment11storage.blob.core.windows.net':'QP11eWllyaiGS+Gh/+9E7504MVEEq2zMkl7w/gk+STE2UAwTf877eljhMot0cGSP1dp+I+tozIki+AStNJk7uA=='})"
   ]
  },
  {
   "cell_type": "code",
   "execution_count": null,
   "metadata": {
    "application/vnd.databricks.v1+cell": {
     "cellMetadata": {
      "byteLimit": 2048000,
      "rowLimit": 10000
     },
     "inputWidgets": {},
     "nuid": "e5d64625-919c-4fd8-86c4-70fdaef28c25",
     "showTitle": false,
     "title": ""
    },
    "jupyter": {
     "outputs_hidden": true
    }
   },
   "outputs": [],
   "source": [
    "dbutils.fs.mount(source='wasbs://reporting@assignment11storage.blob.core.windows.net',mount_point='/mnt/assignment11/reporting',extra_configs={'fs.azure.account.key.assignment11storage.blob.core.windows.net':'QP11eWllyaiGS+Gh/+9E7504MVEEq2zMkl7w/gk+STE2UAwTf877eljhMot0cGSP1dp+I+tozIki+AStNJk7uA=='})"
   ]
  },
  {
   "cell_type": "code",
   "execution_count": null,
   "metadata": {
    "application/vnd.databricks.v1+cell": {
     "cellMetadata": {
      "byteLimit": 2048000,
      "rowLimit": 10000
     },
     "inputWidgets": {},
     "nuid": "9dac282a-3f72-484a-8b8a-e3e7b75d7e10",
     "showTitle": false,
     "title": ""
    }
   },
   "outputs": [
    {
     "data": {
      "text/plain": [
       "[FileInfo(path='dbfs:/mnt/assignment11/landing/customers.csv', name='customers.csv', size=953719, modificationTime=1698648913000),\n",
       " FileInfo(path='dbfs:/mnt/assignment11/landing/orders.csv', name='orders.csv', size=2999896, modificationTime=1698648915000)]"
      ]
     },
     "execution_count": 1,
     "metadata": {},
     "output_type": "execute_result"
    }
   ],
   "source": [
    "dbutils.fs.ls('/mnt/assignment11/landing')"
   ]
  },
  {
   "cell_type": "code",
   "execution_count": null,
   "metadata": {
    "application/vnd.databricks.v1+cell": {
     "cellMetadata": {
      "byteLimit": 2048000,
      "rowLimit": 10000
     },
     "inputWidgets": {},
     "nuid": "436ce430-cca3-4718-bc9d-9c139064188e",
     "showTitle": false,
     "title": ""
    }
   },
   "outputs": [],
   "source": [
    "orders_schema = 'order_id string, order_date date, order_customer_id string, order_status string'"
   ]
  },
  {
   "cell_type": "code",
   "execution_count": null,
   "metadata": {
    "application/vnd.databricks.v1+cell": {
     "cellMetadata": {
      "byteLimit": 2048000,
      "rowLimit": 10000
     },
     "inputWidgets": {},
     "nuid": "fc28f52b-8437-4755-8754-dc0423ecc148",
     "showTitle": false,
     "title": ""
    }
   },
   "outputs": [],
   "source": [
    "orders = spark.read.format('csv').schema(orders_schema).load('dbfs:/mnt/assignment11/landing/orders.csv',header = True)"
   ]
  },
  {
   "cell_type": "code",
   "execution_count": null,
   "metadata": {
    "application/vnd.databricks.v1+cell": {
     "cellMetadata": {
      "byteLimit": 2048000,
      "rowLimit": 10000
     },
     "inputWidgets": {},
     "nuid": "0610cc00-faae-4f59-a91f-2ec8d61a9daa",
     "showTitle": false,
     "title": ""
    }
   },
   "outputs": [
    {
     "name": "stdout",
     "output_type": "stream",
     "text": [
      "+--------+----------+-----------------+---------------+\n",
      "|order_id|order_date|order_customer_id|   order_status|\n",
      "+--------+----------+-----------------+---------------+\n",
      "|       1|2013-07-25|            11599|         CLOSED|\n",
      "|       2|2013-07-25|              256|PENDING_PAYMENT|\n",
      "|       3|2013-07-25|            12111|       COMPLETE|\n",
      "|       4|2013-07-25|             8827|         CLOSED|\n",
      "|       5|2013-07-25|            11318|       COMPLETE|\n",
      "|       6|2013-07-25|             7130|       COMPLETE|\n",
      "|       7|2013-07-25|             4530|       COMPLETE|\n",
      "|       8|2013-07-25|             2911|     PROCESSING|\n",
      "|       9|2013-07-25|             5657|PENDING_PAYMENT|\n",
      "|      10|2013-07-25|             5648|PENDING_PAYMENT|\n",
      "|      11|2013-07-25|              918| PAYMENT_REVIEW|\n",
      "|      12|2013-07-25|             1837|         CLOSED|\n",
      "|      13|2013-07-25|             9149|PENDING_PAYMENT|\n",
      "|      14|2013-07-25|             9842|     PROCESSING|\n",
      "|      15|2013-07-25|             2568|       COMPLETE|\n",
      "|      16|2013-07-25|             7276|PENDING_PAYMENT|\n",
      "|      17|2013-07-25|             2667|       COMPLETE|\n",
      "|      18|2013-07-25|             1205|         CLOSED|\n",
      "|      19|2013-07-25|             9488|PENDING_PAYMENT|\n",
      "|      20|2013-07-25|             9198|     PROCESSING|\n",
      "+--------+----------+-----------------+---------------+\n",
      "only showing top 20 rows\n",
      "\n"
     ]
    }
   ],
   "source": [
    "orders.show()"
   ]
  },
  {
   "cell_type": "code",
   "execution_count": null,
   "metadata": {
    "application/vnd.databricks.v1+cell": {
     "cellMetadata": {
      "byteLimit": 2048000,
      "rowLimit": 10000
     },
     "inputWidgets": {},
     "nuid": "275e6441-e5c6-4511-a4c9-b730b8ef8a1a",
     "showTitle": false,
     "title": ""
    }
   },
   "outputs": [],
   "source": [
    "customers_schema = 'customer_id string, \\\n",
    "customer_fname string, \\\n",
    "customer_lname string, \\\n",
    "customer_email string, \\\n",
    "customer_password string, \\\n",
    "customer_street string, \\\n",
    "customer_city string, \\\n",
    "customer_state string, \\\n",
    "customer_zipcode string' "
   ]
  },
  {
   "cell_type": "code",
   "execution_count": null,
   "metadata": {
    "application/vnd.databricks.v1+cell": {
     "cellMetadata": {
      "byteLimit": 2048000,
      "rowLimit": 10000
     },
     "inputWidgets": {},
     "nuid": "329fc123-6998-48a5-8823-43a283993ea4",
     "showTitle": false,
     "title": ""
    }
   },
   "outputs": [],
   "source": [
    "customers = spark.read.format('csv').schema(customers_schema).load('dbfs:/mnt/assignment11/landing/customers.csv',header = True)"
   ]
  },
  {
   "cell_type": "code",
   "execution_count": null,
   "metadata": {
    "application/vnd.databricks.v1+cell": {
     "cellMetadata": {
      "byteLimit": 2048000,
      "rowLimit": 10000
     },
     "inputWidgets": {},
     "nuid": "349d7b1c-080f-41fd-ace6-98a7c49a2090",
     "showTitle": false,
     "title": ""
    }
   },
   "outputs": [],
   "source": [
    "display(customers)"
   ]
  },
  {
   "cell_type": "code",
   "execution_count": null,
   "metadata": {
    "application/vnd.databricks.v1+cell": {
     "cellMetadata": {
      "byteLimit": 2048000,
      "rowLimit": 10000
     },
     "inputWidgets": {},
     "nuid": "7e97975c-e1ba-44cf-9976-49d7b2c80337",
     "showTitle": false,
     "title": ""
    }
   },
   "outputs": [],
   "source": [
    "from pyspark.sql.functions import year, month"
   ]
  },
  {
   "cell_type": "code",
   "execution_count": null,
   "metadata": {
    "application/vnd.databricks.v1+cell": {
     "cellMetadata": {
      "byteLimit": 2048000,
      "rowLimit": 10000
     },
     "inputWidgets": {},
     "nuid": "edf911e7-e4a4-4747-9c2a-9da2adc54244",
     "showTitle": false,
     "title": ""
    }
   },
   "outputs": [],
   "source": [
    "orders = orders.withColumn('order_year',year('order_date'))"
   ]
  },
  {
   "cell_type": "code",
   "execution_count": null,
   "metadata": {
    "application/vnd.databricks.v1+cell": {
     "cellMetadata": {
      "byteLimit": 2048000,
      "rowLimit": 10000
     },
     "inputWidgets": {},
     "nuid": "e332d89f-e955-44ab-99f6-7b9fb0b13e5f",
     "showTitle": false,
     "title": ""
    }
   },
   "outputs": [
    {
     "name": "stdout",
     "output_type": "stream",
     "text": [
      "+--------+----------+-----------------+---------------+----------+\n",
      "|order_id|order_date|order_customer_id|   order_status|order_year|\n",
      "+--------+----------+-----------------+---------------+----------+\n",
      "|       1|2013-07-25|            11599|         CLOSED|      2013|\n",
      "|       2|2013-07-25|              256|PENDING_PAYMENT|      2013|\n",
      "|       3|2013-07-25|            12111|       COMPLETE|      2013|\n",
      "|       4|2013-07-25|             8827|         CLOSED|      2013|\n",
      "|       5|2013-07-25|            11318|       COMPLETE|      2013|\n",
      "|       6|2013-07-25|             7130|       COMPLETE|      2013|\n",
      "|       7|2013-07-25|             4530|       COMPLETE|      2013|\n",
      "|       8|2013-07-25|             2911|     PROCESSING|      2013|\n",
      "|       9|2013-07-25|             5657|PENDING_PAYMENT|      2013|\n",
      "|      10|2013-07-25|             5648|PENDING_PAYMENT|      2013|\n",
      "|      11|2013-07-25|              918| PAYMENT_REVIEW|      2013|\n",
      "|      12|2013-07-25|             1837|         CLOSED|      2013|\n",
      "|      13|2013-07-25|             9149|PENDING_PAYMENT|      2013|\n",
      "|      14|2013-07-25|             9842|     PROCESSING|      2013|\n",
      "|      15|2013-07-25|             2568|       COMPLETE|      2013|\n",
      "|      16|2013-07-25|             7276|PENDING_PAYMENT|      2013|\n",
      "|      17|2013-07-25|             2667|       COMPLETE|      2013|\n",
      "|      18|2013-07-25|             1205|         CLOSED|      2013|\n",
      "|      19|2013-07-25|             9488|PENDING_PAYMENT|      2013|\n",
      "|      20|2013-07-25|             9198|     PROCESSING|      2013|\n",
      "+--------+----------+-----------------+---------------+----------+\n",
      "only showing top 20 rows\n",
      "\n"
     ]
    }
   ],
   "source": [
    "orders.show()"
   ]
  },
  {
   "cell_type": "code",
   "execution_count": null,
   "metadata": {
    "application/vnd.databricks.v1+cell": {
     "cellMetadata": {
      "byteLimit": 2048000,
      "rowLimit": 10000
     },
     "inputWidgets": {},
     "nuid": "1e7e6f70-b06d-4ece-9d3f-103a3de04c9c",
     "showTitle": false,
     "title": ""
    }
   },
   "outputs": [],
   "source": [
    "orders = orders.withColumn('order_month',month('order_date'))"
   ]
  },
  {
   "cell_type": "code",
   "execution_count": null,
   "metadata": {
    "application/vnd.databricks.v1+cell": {
     "cellMetadata": {
      "byteLimit": 2048000,
      "rowLimit": 10000
     },
     "inputWidgets": {},
     "nuid": "44eb05b7-00f5-46ff-a16f-5ba813268cde",
     "showTitle": false,
     "title": ""
    }
   },
   "outputs": [
    {
     "name": "stdout",
     "output_type": "stream",
     "text": [
      "+--------+----------+-----------------+---------------+----------+-----------+\n",
      "|order_id|order_date|order_customer_id|   order_status|order_year|order_month|\n",
      "+--------+----------+-----------------+---------------+----------+-----------+\n",
      "|       1|2013-07-25|            11599|         CLOSED|      2013|          7|\n",
      "|       2|2013-07-25|              256|PENDING_PAYMENT|      2013|          7|\n",
      "|       3|2013-07-25|            12111|       COMPLETE|      2013|          7|\n",
      "|       4|2013-07-25|             8827|         CLOSED|      2013|          7|\n",
      "|       5|2013-07-25|            11318|       COMPLETE|      2013|          7|\n",
      "|       6|2013-07-25|             7130|       COMPLETE|      2013|          7|\n",
      "|       7|2013-07-25|             4530|       COMPLETE|      2013|          7|\n",
      "|       8|2013-07-25|             2911|     PROCESSING|      2013|          7|\n",
      "|       9|2013-07-25|             5657|PENDING_PAYMENT|      2013|          7|\n",
      "|      10|2013-07-25|             5648|PENDING_PAYMENT|      2013|          7|\n",
      "|      11|2013-07-25|              918| PAYMENT_REVIEW|      2013|          7|\n",
      "|      12|2013-07-25|             1837|         CLOSED|      2013|          7|\n",
      "|      13|2013-07-25|             9149|PENDING_PAYMENT|      2013|          7|\n",
      "|      14|2013-07-25|             9842|     PROCESSING|      2013|          7|\n",
      "|      15|2013-07-25|             2568|       COMPLETE|      2013|          7|\n",
      "|      16|2013-07-25|             7276|PENDING_PAYMENT|      2013|          7|\n",
      "|      17|2013-07-25|             2667|       COMPLETE|      2013|          7|\n",
      "|      18|2013-07-25|             1205|         CLOSED|      2013|          7|\n",
      "|      19|2013-07-25|             9488|PENDING_PAYMENT|      2013|          7|\n",
      "|      20|2013-07-25|             9198|     PROCESSING|      2013|          7|\n",
      "+--------+----------+-----------------+---------------+----------+-----------+\n",
      "only showing top 20 rows\n",
      "\n"
     ]
    }
   ],
   "source": [
    "orders.show()"
   ]
  },
  {
   "cell_type": "code",
   "execution_count": null,
   "metadata": {
    "application/vnd.databricks.v1+cell": {
     "cellMetadata": {
      "byteLimit": 2048000,
      "rowLimit": 10000
     },
     "inputWidgets": {},
     "nuid": "1f02aa90-e7d3-4873-ae6d-1c73483ec89c",
     "showTitle": false,
     "title": ""
    }
   },
   "outputs": [],
   "source": [
    "orders.write.format('parquet').mode('overwrite').partitionBy('order_year','order_status').save('/mnt/assignment11/staging/order')"
   ]
  },
  {
   "cell_type": "code",
   "execution_count": null,
   "metadata": {
    "application/vnd.databricks.v1+cell": {
     "cellMetadata": {
      "byteLimit": 2048000,
      "rowLimit": 10000
     },
     "inputWidgets": {},
     "nuid": "5b8d8c7e-4665-4bf7-b54b-f1e398976b16",
     "showTitle": false,
     "title": ""
    }
   },
   "outputs": [],
   "source": [
    "customers.write.format('parquet').mode('overwrite').partitionBy('customer_state').save('/mnt/assignment11/staging/customer')"
   ]
  },
  {
   "cell_type": "code",
   "execution_count": null,
   "metadata": {
    "application/vnd.databricks.v1+cell": {
     "cellMetadata": {
      "byteLimit": 2048000,
      "rowLimit": 10000
     },
     "inputWidgets": {},
     "nuid": "704e2894-d25f-4ee0-a840-24546e78ca81",
     "showTitle": false,
     "title": ""
    }
   },
   "outputs": [],
   "source": [
    "orders_stage = spark.read.format('parquet').option('header','true').load('dbfs:/mnt/assignment11/staging/order')"
   ]
  },
  {
   "cell_type": "code",
   "execution_count": null,
   "metadata": {
    "application/vnd.databricks.v1+cell": {
     "cellMetadata": {
      "byteLimit": 2048000,
      "rowLimit": 10000
     },
     "inputWidgets": {},
     "nuid": "9ff65ce0-9cb5-4465-ad6d-1a91cfdac7e3",
     "showTitle": false,
     "title": ""
    }
   },
   "outputs": [],
   "source": [
    "customers_stage = spark.read.format('parquet').option('header','true').load('dbfs:/mnt/assignment11/staging/customer')"
   ]
  },
  {
   "cell_type": "code",
   "execution_count": null,
   "metadata": {
    "application/vnd.databricks.v1+cell": {
     "cellMetadata": {
      "byteLimit": 2048000,
      "rowLimit": 10000
     },
     "inputWidgets": {},
     "nuid": "5e8f9149-bba8-44ad-b9c4-ebd968cd962f",
     "showTitle": false,
     "title": ""
    }
   },
   "outputs": [
    {
     "name": "stdout",
     "output_type": "stream",
     "text": [
      "+--------+----------+-----------------+-----------+----------+------------+\n",
      "|order_id|order_date|order_customer_id|order_month|order_year|order_status|\n",
      "+--------+----------+-----------------+-----------+----------+------------+\n",
      "|   68883|2014-07-23|             5533|          7|      2014|    COMPLETE|\n",
      "|   68880|2014-07-13|             1117|          7|      2014|    COMPLETE|\n",
      "|   68879|2014-07-09|              778|          7|      2014|    COMPLETE|\n",
      "|   68878|2014-07-08|             6753|          7|      2014|    COMPLETE|\n",
      "|   68876|2014-07-06|             4124|          7|      2014|    COMPLETE|\n",
      "|   68874|2014-07-03|             1601|          7|      2014|    COMPLETE|\n",
      "|   68872|2014-06-29|             3354|          6|      2014|    COMPLETE|\n",
      "|   68870|2014-06-26|             3343|          6|      2014|    COMPLETE|\n",
      "|   68859|2014-06-11|             1428|          6|      2014|    COMPLETE|\n",
      "|   68858|2014-06-06|            10744|          6|      2014|    COMPLETE|\n",
      "|   68857|2014-06-04|              312|          6|      2014|    COMPLETE|\n",
      "|   68850|2014-05-25|             8451|          5|      2014|    COMPLETE|\n",
      "|   68849|2014-05-23|             2356|          5|      2014|    COMPLETE|\n",
      "|   68847|2014-05-21|             2543|          5|      2014|    COMPLETE|\n",
      "|   68845|2014-05-18|             6584|          5|      2014|    COMPLETE|\n",
      "|   68844|2014-05-17|              443|          5|      2014|    COMPLETE|\n",
      "|   68839|2014-05-10|            10090|          5|      2014|    COMPLETE|\n",
      "|   68837|2014-05-07|             1223|          5|      2014|    COMPLETE|\n",
      "|   68835|2014-05-02|              764|          5|      2014|    COMPLETE|\n",
      "|   68834|2014-05-01|             6938|          5|      2014|    COMPLETE|\n",
      "+--------+----------+-----------------+-----------+----------+------------+\n",
      "only showing top 20 rows\n",
      "\n"
     ]
    }
   ],
   "source": [
    "orders_stage.show()"
   ]
  },
  {
   "cell_type": "code",
   "execution_count": null,
   "metadata": {
    "application/vnd.databricks.v1+cell": {
     "cellMetadata": {
      "byteLimit": 2048000,
      "rowLimit": 10000
     },
     "inputWidgets": {},
     "nuid": "81edf1f4-76c1-4bca-9726-990e64991127",
     "showTitle": false,
     "title": ""
    }
   },
   "outputs": [
    {
     "name": "stdout",
     "output_type": "stream",
     "text": [
      "+-----------+--------------+--------------+--------------+-----------------+--------------------+-------------+----------------+--------------+\n",
      "|customer_id|customer_fname|customer_lname|customer_email|customer_password|     customer_street|customer_city|customer_zipcode|customer_state|\n",
      "+-----------+--------------+--------------+--------------+-----------------+--------------------+-------------+----------------+--------------+\n",
      "|      12434|          Mary|         Mills|     XXXXXXXXX|        XXXXXXXXX|9720 Colonial Parade|       Caguas|           00725|            PR|\n",
      "|      12432|        Angela|         Smith|     XXXXXXXXX|        XXXXXXXXX|1525 Jagged Barn ...|       Caguas|           00725|            PR|\n",
      "|      12430|        Hannah|         Brown|     XXXXXXXXX|        XXXXXXXXX|  8316 Pleasant Bend|       Caguas|           00725|            PR|\n",
      "|      12428|       Jeffrey|        Travis|     XXXXXXXXX|        XXXXXXXXX|1552 Burning Dale...|       Caguas|           00725|            PR|\n",
      "|      12425|          Mary|         Smith|     XXXXXXXXX|        XXXXXXXXX|1050 Grand Forest...|       Caguas|           00725|            PR|\n",
      "|      12422|          Mary|       Blevins|     XXXXXXXXX|        XXXXXXXXX|6473 Bright Expre...|       Caguas|           00725|            PR|\n",
      "|      12420|        Nathan|         Adams|     XXXXXXXXX|        XXXXXXXXX|2877 Thunder Spri...|       Caguas|           00725|            PR|\n",
      "|      12418|         Linda|    Livingston|     XXXXXXXXX|        XXXXXXXXX| 3927 Indian Village|       Caguas|           00725|            PR|\n",
      "|      12415|         Joyce|         Smith|     XXXXXXXXX|        XXXXXXXXX|8335 Little Rise ...|       Caguas|           00725|            PR|\n",
      "|      12413|           Amy|         Smith|     XXXXXXXXX|        XXXXXXXXX|3493 Middle Fawn ...|       Caguas|           00725|            PR|\n",
      "|      12411|          Mary|         Perez|     XXXXXXXXX|        XXXXXXXXX| 125 Easy Lake Close|       Caguas|           00725|            PR|\n",
      "|      12409|          Mary|        Mccann|     XXXXXXXXX|        XXXXXXXXX|      1540 Round Way|       Caguas|           00725|            PR|\n",
      "|      12406|          Mary|       Michael|     XXXXXXXXX|        XXXXXXXXX|9657 Red Willow Hill|       Caguas|           00725|            PR|\n",
      "|      12404|          Mary|         Smith|     XXXXXXXXX|        XXXXXXXXX|5226 Dusty Wagon ...|       Caguas|           00725|            PR|\n",
      "|      12402|          Mary|          Hunt|     XXXXXXXXX|        XXXXXXXXX|  5840 Pleasant Link|       Caguas|           00725|            PR|\n",
      "|      12400|          Mary|         Smith|     XXXXXXXXX|        XXXXXXXXX|9900 Hidden Rise ...|       Caguas|           00725|            PR|\n",
      "|      12398|       Charles|       Johnson|     XXXXXXXXX|        XXXXXXXXX|       9959 Old Walk|       Caguas|           00725|            PR|\n",
      "|      12396|        Rachel|          Horn|     XXXXXXXXX|        XXXXXXXXX|  7810 Round Corners|       Caguas|           00725|            PR|\n",
      "|      12394|      Samantha|          Sims|     XXXXXXXXX|        XXXXXXXXX|8170 Dusty Oak To...|       Caguas|           00725|            PR|\n",
      "|      12393|          Mary|         Smith|     XXXXXXXXX|        XXXXXXXXX|6567 High Lagoon ...|       Manati|           00674|            PR|\n",
      "+-----------+--------------+--------------+--------------+-----------------+--------------------+-------------+----------------+--------------+\n",
      "only showing top 20 rows\n",
      "\n"
     ]
    }
   ],
   "source": [
    "customers_stage.show()"
   ]
  },
  {
   "cell_type": "code",
   "execution_count": null,
   "metadata": {
    "application/vnd.databricks.v1+cell": {
     "cellMetadata": {
      "byteLimit": 2048000,
      "rowLimit": 10000
     },
     "inputWidgets": {},
     "nuid": "6ea6d7b1-d9e0-4ad7-b1b7-d80fcaac3900",
     "showTitle": false,
     "title": ""
    }
   },
   "outputs": [
    {
     "data": {
      "text/plain": [
       "68881"
      ]
     },
     "execution_count": 19,
     "metadata": {},
     "output_type": "execute_result"
    }
   ],
   "source": [
    "orders_stage.count()"
   ]
  },
  {
   "cell_type": "code",
   "execution_count": null,
   "metadata": {
    "application/vnd.databricks.v1+cell": {
     "cellMetadata": {
      "byteLimit": 2048000,
      "rowLimit": 10000
     },
     "inputWidgets": {},
     "nuid": "98bb1ef1-e50c-44e4-9622-4d40792946ec",
     "showTitle": false,
     "title": ""
    }
   },
   "outputs": [
    {
     "data": {
      "text/plain": [
       "12434"
      ]
     },
     "execution_count": 20,
     "metadata": {},
     "output_type": "execute_result"
    }
   ],
   "source": [
    "customers_stage.count()"
   ]
  },
  {
   "cell_type": "code",
   "execution_count": null,
   "metadata": {
    "application/vnd.databricks.v1+cell": {
     "cellMetadata": {
      "byteLimit": 2048000,
      "rowLimit": 10000
     },
     "inputWidgets": {},
     "nuid": "3e0a3d8a-bbf3-45b1-834e-886a55565f0d",
     "showTitle": false,
     "title": ""
    }
   },
   "outputs": [],
   "source": [
    "from pyspark.sql.functions import broadcast,expr"
   ]
  },
  {
   "cell_type": "code",
   "execution_count": null,
   "metadata": {
    "application/vnd.databricks.v1+cell": {
     "cellMetadata": {
      "byteLimit": 2048000,
      "rowLimit": 10000
     },
     "inputWidgets": {},
     "nuid": "262ffad2-f77f-47e6-951a-a8408a1001be",
     "showTitle": false,
     "title": ""
    },
    "jupyter": {
     "outputs_hidden": true
    }
   },
   "outputs": [],
   "source": [
    "joined_df = orders_stage.join(broadcast(customers_stage),expr('order_customer_id=customer_id'))"
   ]
  },
  {
   "cell_type": "code",
   "execution_count": null,
   "metadata": {
    "application/vnd.databricks.v1+cell": {
     "cellMetadata": {
      "byteLimit": 2048000,
      "rowLimit": 10000
     },
     "inputWidgets": {},
     "nuid": "9358b198-ccc8-4a8d-a928-be658ba7d9e1",
     "showTitle": false,
     "title": ""
    }
   },
   "outputs": [],
   "source": [
    "reporting_df = joined_df.select(\"order_id\",\"order_date\",\"order_customer_id\", \"order_month\",\"order_year\",\"order_status\",\"customer_fname\",\"customer_lname\",\"customer_city\",\"customer_zipcode\",\"customer_state\")"
   ]
  },
  {
   "cell_type": "code",
   "execution_count": null,
   "metadata": {
    "application/vnd.databricks.v1+cell": {
     "cellMetadata": {
      "byteLimit": 2048000,
      "rowLimit": 10000
     },
     "inputWidgets": {},
     "nuid": "db8768a5-89dc-40b6-af91-1f83351999a7",
     "showTitle": false,
     "title": ""
    }
   },
   "outputs": [
    {
     "name": "stdout",
     "output_type": "stream",
     "text": [
      "+--------+----------+-----------------+-----------+----------+------------+--------------+--------------+-------------+----------------+--------------+\n",
      "|order_id|order_date|order_customer_id|order_month|order_year|order_status|customer_fname|customer_lname|customer_city|customer_zipcode|customer_state|\n",
      "+--------+----------+-----------------+-----------+----------+------------+--------------+--------------+-------------+----------------+--------------+\n",
      "|   68883|2014-07-23|             5533|          7|      2014|    COMPLETE|          Mary|      Harrison|       Caguas|           00725|            PR|\n",
      "|   68880|2014-07-13|             1117|          7|      2014|    COMPLETE|        Arthur|        Maddox|       Caguas|           00725|            PR|\n",
      "|   68879|2014-07-09|              778|          7|      2014|    COMPLETE|          John|       Buckley|       Caguas|           00725|            PR|\n",
      "|   68878|2014-07-08|             6753|          7|      2014|    COMPLETE|        Judith|        Hester|  Winter Park|           32792|            FL|\n",
      "|   68876|2014-07-06|             4124|          7|      2014|    COMPLETE|         Jerry|        Larsen|       Caguas|           00725|            PR|\n",
      "|   68874|2014-07-03|             1601|          7|      2014|    COMPLETE|          Mark|       Padilla|       Caguas|           00725|            PR|\n",
      "|   68872|2014-06-29|             3354|          6|      2014|    COMPLETE|       Russell|        Flores|       Caguas|           00725|            PR|\n",
      "|   68870|2014-06-26|             3343|          6|      2014|    COMPLETE|       Vincent|         Smith|       Caguas|           00725|            PR|\n",
      "|   68859|2014-06-11|             1428|          6|      2014|    COMPLETE|          Mary|         Clark|    Frankfort|           40601|            KY|\n",
      "|   68858|2014-06-06|            10744|          6|      2014|    COMPLETE|      Samantha|         Smith|     Palatine|           60067|            IL|\n",
      "|   68857|2014-06-04|              312|          6|      2014|    COMPLETE|          Jack|         Smith|      Houston|           77055|            TX|\n",
      "|   68850|2014-05-25|             8451|          5|      2014|    COMPLETE|        Janice|         Novak|      Houston|           77072|            TX|\n",
      "|   68849|2014-05-23|             2356|          5|      2014|    COMPLETE|          Mary|         Henry|        Irwin|           15642|            PA|\n",
      "|   68847|2014-05-21|             2543|          5|      2014|    COMPLETE|          Alan|         Weber|        Tempe|           85282|            AZ|\n",
      "|   68845|2014-05-18|             6584|          5|      2014|    COMPLETE|          Mary|         Smith|       Caguas|           00725|            PR|\n",
      "|   68844|2014-05-17|              443|          5|      2014|    COMPLETE|       Barbara|      Robinson|       Caguas|           00725|            PR|\n",
      "|   68839|2014-05-10|            10090|          5|      2014|    COMPLETE|       Jessica|         Smith|       Newark|           19711|            DE|\n",
      "|   68837|2014-05-07|             1223|          5|      2014|    COMPLETE|       Richard|         Perry|        Bronx|           10469|            NY|\n",
      "|   68835|2014-05-02|              764|          5|      2014|    COMPLETE|         David|         Smith|     Mililani|           96789|            HI|\n",
      "|   68834|2014-05-01|             6938|          5|      2014|    COMPLETE|      Kathleen|         Smith|  Albuquerque|           87112|            NM|\n",
      "+--------+----------+-----------------+-----------+----------+------------+--------------+--------------+-------------+----------------+--------------+\n",
      "only showing top 20 rows\n",
      "\n"
     ]
    }
   ],
   "source": [
    "reporting_df.show()"
   ]
  },
  {
   "cell_type": "code",
   "execution_count": null,
   "metadata": {
    "application/vnd.databricks.v1+cell": {
     "cellMetadata": {
      "byteLimit": 2048000,
      "rowLimit": 10000
     },
     "inputWidgets": {},
     "nuid": "a4dd8a18-3b7b-470f-8ad4-c271baf8bfb3",
     "showTitle": false,
     "title": ""
    }
   },
   "outputs": [],
   "source": [
    "reporting_df.write.format('parquet').mode('overwrite').partitionBy('order_year','customer_state','customer_city','order_status').save('/mnt/assignment11/reporting')"
   ]
  },
  {
   "cell_type": "code",
   "execution_count": null,
   "metadata": {
    "application/vnd.databricks.v1+cell": {
     "cellMetadata": {
      "byteLimit": 2048000,
      "rowLimit": 10000
     },
     "inputWidgets": {},
     "nuid": "606addd3-bc90-450b-a39a-8c76df44a415",
     "showTitle": false,
     "title": ""
    }
   },
   "outputs": [],
   "source": [
    "reporting_df.write.format('parquet')\\\n",
    "  .mode('overwrite')\\\n",
    "  .partitionBy('order_year', 'customer_state', 'customer_city', 'order_status')\\\n",
    "  .save('/mnt/assignment11/reporting')\n"
   ]
  },
  {
   "cell_type": "code",
   "execution_count": null,
   "metadata": {
    "application/vnd.databricks.v1+cell": {
     "cellMetadata": {
      "byteLimit": 2048000,
      "rowLimit": 10000
     },
     "inputWidgets": {},
     "nuid": "ba5db56f-f1f1-4b9b-b9d8-394fbe63b9ba",
     "showTitle": false,
     "title": ""
    }
   },
   "outputs": [
    {
     "data": {
      "text/plain": [
       "[FileInfo(path='dbfs:/mnt/assignment11/reporting/_SUCCESS', name='_SUCCESS', size=0, modificationTime=1698696978000),\n",
       " FileInfo(path='dbfs:/mnt/assignment11/reporting/order_year=2013/', name='order_year=2013/', size=0, modificationTime=1698656991000),\n",
       " FileInfo(path='dbfs:/mnt/assignment11/reporting/order_year=2014/', name='order_year=2014/', size=0, modificationTime=1698656991000),\n",
       " FileInfo(path='dbfs:/mnt/assignment11/reporting/report/', name='report/', size=0, modificationTime=1698657535000)]"
      ]
     },
     "execution_count": 26,
     "metadata": {},
     "output_type": "execute_result"
    }
   ],
   "source": [
    "dbutils.fs.ls('dbfs:/mnt/assignment11/reporting')"
   ]
  },
  {
   "cell_type": "code",
   "execution_count": null,
   "metadata": {
    "application/vnd.databricks.v1+cell": {
     "cellMetadata": {
      "byteLimit": 2048000,
      "rowLimit": 10000
     },
     "inputWidgets": {},
     "nuid": "ac977422-ddf5-4d56-8a4b-99974ce4b45e",
     "showTitle": false,
     "title": ""
    }
   },
   "outputs": [],
   "source": [
    "reporting = spark.read.format('parquet').option('header','true').load('dbfs:/mnt/assignment11/reporting')"
   ]
  },
  {
   "cell_type": "code",
   "execution_count": null,
   "metadata": {
    "application/vnd.databricks.v1+cell": {
     "cellMetadata": {
      "byteLimit": 2048000,
      "rowLimit": 10000
     },
     "inputWidgets": {},
     "nuid": "b913a9d7-ef74-4f63-acae-38638e9987a9",
     "showTitle": false,
     "title": ""
    }
   },
   "outputs": [],
   "source": [
    "new_reprting = reporting.select(expr(\"order_customer_id\").alias(\"customer_id\"), expr(\"concat(customer_fname,' ',customer_lname)\").alias(\"customer_name\"), \"customer_city\", \"order_date\", \"order_status\", \"customer_state\", \"order_year\", \"order_month\")"
   ]
  },
  {
   "cell_type": "code",
   "execution_count": null,
   "metadata": {
    "application/vnd.databricks.v1+cell": {
     "cellMetadata": {
      "byteLimit": 2048000,
      "rowLimit": 10000
     },
     "inputWidgets": {},
     "nuid": "72f940b8-fd44-447d-9e06-b090c3e33be8",
     "showTitle": false,
     "title": ""
    }
   },
   "outputs": [],
   "source": [
    "new_reporting.createOrReplaceTempView('reporting_view')"
   ]
  },
  {
   "cell_type": "code",
   "execution_count": null,
   "metadata": {
    "application/vnd.databricks.v1+cell": {
     "cellMetadata": {
      "byteLimit": 2048000,
      "rowLimit": 10000
     },
     "inputWidgets": {},
     "nuid": "93c39d6c-c24f-41fb-a9ac-5d614ebca288",
     "showTitle": false,
     "title": ""
    }
   },
   "outputs": [
    {
     "name": "stdout",
     "output_type": "stream",
     "text": [
      "+-----------+-----------------+-------------+----------+------------+--------------+----------+-----------+\n",
      "|customer_id|    customer_name|customer_city|order_date|order_status|customer_state|order_year|order_month|\n",
      "+-----------+-----------------+-------------+----------+------------+--------------+----------+-----------+\n",
      "|       6735|   Barbara Martin|       Caguas|2014-01-01|    COMPLETE|            PR|      2014|          1|\n",
      "|       1044|       Linda Pope|       Caguas|2014-01-01|    COMPLETE|            PR|      2014|          1|\n",
      "|       6405|    Mary Anderson|       Caguas|2014-01-01|    COMPLETE|            PR|      2014|          1|\n",
      "|       3099|Brittany Copeland|       Caguas|2014-01-01|    COMPLETE|            PR|      2014|          1|\n",
      "|       9382|        Mary Rowe|       Caguas|2014-01-01|    COMPLETE|            PR|      2014|          1|\n",
      "|       9288|       Mary Mason|       Caguas|2014-01-01|    COMPLETE|            PR|      2014|          1|\n",
      "|       3219|      Mary French|       Caguas|2014-01-01|    COMPLETE|            PR|      2014|          1|\n",
      "|       3052|     Mary Morales|       Caguas|2014-01-01|    COMPLETE|            PR|      2014|          1|\n",
      "|       4567|       Rose Smith|       Caguas|2014-01-01|    COMPLETE|            PR|      2014|          1|\n",
      "|       8989|    Sarah Aguilar|       Caguas|2014-01-01|    COMPLETE|            PR|      2014|          1|\n",
      "+-----------+-----------------+-------------+----------+------------+--------------+----------+-----------+\n",
      "\n"
     ]
    }
   ],
   "source": [
    "spark.sql(\"select * from reporting_view limit 10\").show()"
   ]
  },
  {
   "cell_type": "code",
   "execution_count": null,
   "metadata": {
    "application/vnd.databricks.v1+cell": {
     "cellMetadata": {
      "byteLimit": 2048000,
      "rowLimit": 10000
     },
     "inputWidgets": {},
     "nuid": "24ec8b23-98a7-42e6-89e7-fbec40c770d6",
     "showTitle": false,
     "title": ""
    }
   },
   "outputs": [
    {
     "data": {
      "text/plain": [
       "DataFrame[]"
      ]
     },
     "execution_count": 34,
     "metadata": {},
     "output_type": "execute_result"
    }
   ],
   "source": [
    "spark.sql(\"cache table reporting_view\")"
   ]
  },
  {
   "cell_type": "code",
   "execution_count": null,
   "metadata": {
    "application/vnd.databricks.v1+cell": {
     "cellMetadata": {
      "byteLimit": 2048000,
      "implicitDf": true,
      "rowLimit": 10000
     },
     "inputWidgets": {},
     "nuid": "4211209c-8add-4cec-805c-1bb398aa93d2",
     "showTitle": false,
     "title": ""
    }
   },
   "outputs": [
    {
     "data": {
      "text/html": [
       "<style scoped>\n",
       "  .table-result-container {\n",
       "    max-height: 300px;\n",
       "    overflow: auto;\n",
       "  }\n",
       "  table, th, td {\n",
       "    border: 1px solid black;\n",
       "    border-collapse: collapse;\n",
       "  }\n",
       "  th, td {\n",
       "    padding: 5px;\n",
       "  }\n",
       "  th {\n",
       "    text-align: left;\n",
       "  }\n",
       "</style><div class='table-result-container'><table class='table-result'><thead style='background-color: white'><tr><th>customer_name</th></tr></thead><tbody><tr><td>Elizabeth Ball</td></tr><tr><td>Mary Patel</td></tr><tr><td>Mary Baird</td></tr><tr><td>Sandra Smith</td></tr><tr><td>Christina Walsh</td></tr><tr><td>Arthur Fisher</td></tr><tr><td>Mary Patterson</td></tr><tr><td>Raymond Richards</td></tr><tr><td>Christopher Smith</td></tr><tr><td>Janice Novak</td></tr><tr><td>Dylan Butler</td></tr><tr><td>Juan Smith</td></tr><tr><td>Carolyn Smith</td></tr><tr><td>Mary Dyer</td></tr><tr><td>Lori Smith</td></tr><tr><td>Mary Fry</td></tr><tr><td>Walter Hughes</td></tr><tr><td>Tammy Smith</td></tr><tr><td>Edward Smith</td></tr><tr><td>Patricia Serrano</td></tr><tr><td>Mary Lopez</td></tr><tr><td>Marilyn Diaz</td></tr><tr><td>Roy Smith</td></tr><tr><td>Richard Richmond</td></tr><tr><td>Mary Smith</td></tr><tr><td>Brittany French</td></tr><tr><td>Mary Jimenez</td></tr><tr><td>Amy Smith</td></tr><tr><td>Mary Sandoval</td></tr><tr><td>Peter Bray</td></tr><tr><td>Kathryn Marshall</td></tr><tr><td>Sharon Smith</td></tr><tr><td>Christine Rodriguez</td></tr><tr><td>Alice Russo</td></tr><tr><td>Mary Garner</td></tr><tr><td>Jack Smith</td></tr><tr><td>Stephen Smith</td></tr><tr><td>Dennis Smith</td></tr><tr><td>Charles Mason</td></tr><tr><td>Mary Durham</td></tr><tr><td>Mary Fuller</td></tr><tr><td>Mary Mitchell</td></tr><tr><td>David Phillips</td></tr><tr><td>Sarah Smith</td></tr><tr><td>Willie Smith</td></tr><tr><td>Mary Lucero</td></tr><tr><td>Kathryn Smith</td></tr><tr><td>Larry Smith</td></tr><tr><td>Jonathan Cook</td></tr><tr><td>Richard Smith</td></tr><tr><td>Henry Turner</td></tr><tr><td>Patrick Smith</td></tr><tr><td>Nancy Gilbert</td></tr><tr><td>Austin Smith</td></tr><tr><td>Christopher Sloan</td></tr><tr><td>Denise Smith</td></tr><tr><td>Stephen Lee</td></tr><tr><td>Megan Lynch</td></tr><tr><td>Jose Smith</td></tr><tr><td>Joe Smith</td></tr><tr><td>Mary Bentley</td></tr><tr><td>Donald Odom</td></tr><tr><td>Mary Ortega</td></tr><tr><td>Janice Smith</td></tr><tr><td>Jason Dalton</td></tr><tr><td>Steven Smith</td></tr><tr><td>Rebecca Watkins</td></tr><tr><td>Paul Hancock</td></tr><tr><td>Frances Smith</td></tr><tr><td>Mary Rose</td></tr><tr><td>Melissa Powell</td></tr><tr><td>Margaret Villa</td></tr><tr><td>Kimberly Irwin</td></tr><tr><td>Janet Norton</td></tr><tr><td>Mary Little</td></tr><tr><td>Mary Sanders</td></tr><tr><td>Lisa Hudson</td></tr><tr><td>Ashley Palmer</td></tr><tr><td>Mary Bell</td></tr><tr><td>Mary Friedman</td></tr><tr><td>Mary Contreras</td></tr><tr><td>Mary Khan</td></tr><tr><td>Joyce Smith</td></tr><tr><td>David Garrison</td></tr><tr><td>Thomas Gray</td></tr><tr><td>Diana Hale</td></tr><tr><td>Lauren Smith</td></tr><tr><td>Mary Sweeney</td></tr><tr><td>Martha Burnett</td></tr><tr><td>Mary Weeks</td></tr><tr><td>Patricia Smith</td></tr><tr><td>Dorothy Smith</td></tr><tr><td>Mary White</td></tr><tr><td>James Coleman</td></tr><tr><td>Melissa Smith</td></tr><tr><td>Jason Dixon</td></tr><tr><td>Linda Walters</td></tr><tr><td>Matthew Smith</td></tr><tr><td>Mary Mclaughlin</td></tr><tr><td>Mary Brown</td></tr><tr><td>Mary Bowers</td></tr><tr><td>Roger Oliver</td></tr><tr><td>Adam Marquez</td></tr><tr><td>Amanda Smith</td></tr><tr><td>Edward Dennis</td></tr><tr><td>Walter Smith</td></tr><tr><td>Michael Hayes</td></tr><tr><td>Mary Reyes</td></tr><tr><td>Michelle Smith</td></tr><tr><td>Carol Smith</td></tr><tr><td>Mary Payne</td></tr><tr><td>Katherine Lawrence</td></tr><tr><td>Howard Lee</td></tr><tr><td>Mary Robinson</td></tr><tr><td>Andrew Rasmussen</td></tr><tr><td>Nicole Powers</td></tr><tr><td>Mary Nolan</td></tr><tr><td>Ronald Wilson</td></tr><tr><td>Lisa Keith</td></tr><tr><td>Linda Rojas</td></tr><tr><td>Mary George</td></tr><tr><td>Mary Griffith</td></tr><tr><td>Matthew Love</td></tr><tr><td>Margaret Melton</td></tr><tr><td>Diane Zimmerman</td></tr><tr><td>Christina Nelson</td></tr><tr><td>Albert Smith</td></tr><tr><td>Mary Welch</td></tr><tr><td>Mary Burch</td></tr><tr><td>Ronald Smith</td></tr><tr><td>Janice Carpenter</td></tr><tr><td>Kimberly Blair</td></tr><tr><td>Robert Richardson</td></tr><tr><td>Jason Smith</td></tr><tr><td>Roger Smith</td></tr><tr><td>Timothy Smith</td></tr><tr><td>Angela Smith</td></tr><tr><td>Dorothy Frye</td></tr><tr><td>Ashley Smith</td></tr><tr><td>Elizabeth Smith</td></tr><tr><td>Jacob Smith</td></tr><tr><td>Tyler Thompson</td></tr><tr><td>Joshua Mullins</td></tr><tr><td>Larry Henderson</td></tr><tr><td>Frances Holmes</td></tr><tr><td>Robert Smith</td></tr><tr><td>Raymond Santana</td></tr><tr><td>Nancy Mata</td></tr><tr><td>Phillip Smith</td></tr><tr><td>John Smith</td></tr><tr><td>Jose Casey</td></tr><tr><td>Mary Howard</td></tr><tr><td>Julie Santiago</td></tr><tr><td>Evelyn Wilson</td></tr><tr><td>Amy Compton</td></tr><tr><td>Mary Conrad</td></tr><tr><td>Jack James</td></tr><tr><td>Gary Shaffer</td></tr><tr><td>Donald Nelson</td></tr><tr><td>Brandon Stephens</td></tr><tr><td>Mary Roberts</td></tr><tr><td>David Smith</td></tr><tr><td>Mary Newman</td></tr><tr><td>Justin Smith</td></tr><tr><td>Mary Castillo</td></tr><tr><td>Mary Andrews</td></tr><tr><td>Alice Werner</td></tr><tr><td>Carolyn Price</td></tr><tr><td>Brenda Higgins</td></tr><tr><td>Matthew Fields</td></tr><tr><td>Larry Waller</td></tr><tr><td>Benjamin Cole</td></tr><tr><td>Donald Sampson</td></tr><tr><td>Bobby Bean</td></tr><tr><td>Emma Calderon</td></tr><tr><td>Virginia Sanders</td></tr><tr><td>Mary Morgan</td></tr><tr><td>Madison Smith</td></tr><tr><td>Mary Dean</td></tr><tr><td>John Fuentes</td></tr><tr><td>Mary Marshall</td></tr><tr><td>Mary Hodges</td></tr><tr><td>Mary Wright</td></tr><tr><td>Mary Moody</td></tr><tr><td>Shirley Perez</td></tr><tr><td>Mary Ross</td></tr><tr><td>Jack Christian</td></tr><tr><td>Nicholas Wright</td></tr><tr><td>Deborah Barber</td></tr><tr><td>Mary Mcgee</td></tr><tr><td>Mary Simmons</td></tr><tr><td>Gary Smith</td></tr><tr><td>Ryan Smith</td></tr><tr><td>Jane Day</td></tr><tr><td>Mary Harris</td></tr><tr><td>Mary Collier</td></tr><tr><td>John Jacobs</td></tr><tr><td>Donna Bautista</td></tr><tr><td>Mary Fletcher</td></tr><tr><td>Mary Morrison</td></tr><tr><td>Hannah Marshall</td></tr><tr><td>Mary Gonzalez</td></tr><tr><td>Jonathan Smith</td></tr><tr><td>Mary Herman</td></tr><tr><td>Mary Burton</td></tr><tr><td>Jane Smith</td></tr><tr><td>Mary Collins</td></tr><tr><td>Jeremy Washington</td></tr><tr><td>Billy Thompson</td></tr><tr><td>Kimberly Campos</td></tr><tr><td>Mary Moore</td></tr><tr><td>Mary Hardy</td></tr><tr><td>John Johnson</td></tr><tr><td>Brittany Henry</td></tr><tr><td>Mary Johnson</td></tr><tr><td>Sean Navarro</td></tr><tr><td>James Smith</td></tr><tr><td>Mary Decker</td></tr><tr><td>Amber Smith</td></tr><tr><td>Hannah Smith</td></tr><tr><td>Debra Smith</td></tr><tr><td>Ann Smith</td></tr><tr><td>Kenneth Smith</td></tr><tr><td>Tiffany Greer</td></tr><tr><td>Sean Smith</td></tr><tr><td>Mary Chung</td></tr><tr><td>Bruce Horton</td></tr><tr><td>Mary Short</td></tr><tr><td>Emma Noble</td></tr><tr><td>Kimberly Sweeney</td></tr><tr><td>Walter Fuller</td></tr><tr><td>Amber Anderson</td></tr><tr><td>Barbara Johnston</td></tr><tr><td>Mary Bauer</td></tr><tr><td>Mary Shepherd</td></tr><tr><td>Bryan Ramos</td></tr><tr><td>Janet Wallace</td></tr><tr><td>Joyce Leblanc</td></tr><tr><td>Deborah Smith</td></tr><tr><td>Brian Mitchell</td></tr><tr><td>Roy Merritt</td></tr><tr><td>Jesse Smith</td></tr><tr><td>Anna Smith</td></tr><tr><td>Michael Wiley</td></tr><tr><td>Laura Smith</td></tr><tr><td>Lisa Shaw</td></tr><tr><td>Cynthia Garcia</td></tr><tr><td>Mary Nelson</td></tr><tr><td>Mary Bishop</td></tr><tr><td>Brandon Fitzgerald</td></tr><tr><td>Thomas Moore</td></tr><tr><td>Mary Krueger</td></tr><tr><td>Rose Pena</td></tr><tr><td>Wayne Hardy</td></tr><tr><td>Elizabeth Mcpherson</td></tr><tr><td>Mary Meza</td></tr><tr><td>Ashley Powell</td></tr><tr><td>Donald Smith</td></tr><tr><td>Ashley Gordon</td></tr><tr><td>Douglas Washington</td></tr><tr><td>Helen Smith</td></tr><tr><td>Cynthia Smith</td></tr><tr><td>Arthur Li</td></tr><tr><td>Mary Robertson</td></tr><tr><td>Margaret Smith</td></tr><tr><td>Mary Key</td></tr><tr><td>Mary Chapman</td></tr><tr><td>Michelle Terry</td></tr><tr><td>Gary Baker</td></tr><tr><td>Mary Jones</td></tr><tr><td>Willie Galvan</td></tr><tr><td>Rose Wyatt</td></tr><tr><td>Lawrence Smith</td></tr><tr><td>Louis Smith</td></tr><tr><td>Joseph Brooks</td></tr><tr><td>Diana Shepherd</td></tr><tr><td>Betty Spears</td></tr><tr><td>Mary Silva</td></tr><tr><td>Maria Jordan</td></tr><tr><td>Mary Avery</td></tr><tr><td>Charles Smith</td></tr><tr><td>Angela Peterson</td></tr><tr><td>Henry Roman</td></tr><tr><td>Kyle Edwards</td></tr><tr><td>Mary Webb</td></tr><tr><td>Mary Gutierrez</td></tr><tr><td>Mary Morris</td></tr><tr><td>Mary Frazier</td></tr><tr><td>Julia Smith</td></tr><tr><td>Heather Romero</td></tr><tr><td>Larry Patel</td></tr><tr><td>Mary Rivera</td></tr><tr><td>Daniel Smith</td></tr><tr><td>Mary Hopkins</td></tr><tr><td>Paul Shelton</td></tr><tr><td>Sara Cisneros</td></tr><tr><td>Theresa Wiggins</td></tr><tr><td>Brenda Evans</td></tr><tr><td>Wayne Bryant</td></tr><tr><td>Jose Wright</td></tr><tr><td>Donna Hoover</td></tr><tr><td>Nicholas Herman</td></tr><tr><td>Janet Sampson</td></tr><tr><td>Judy Smith</td></tr><tr><td>Thomas Whitney</td></tr><tr><td>Benjamin Smith</td></tr><tr><td>Marilyn Wu</td></tr><tr><td>Barbara Smith</td></tr><tr><td>Joshua Smith</td></tr><tr><td>Mary Watson</td></tr><tr><td>George Smith</td></tr><tr><td>Harold Johnson</td></tr><tr><td>Christina Ewing</td></tr><tr><td>Jesse Fields</td></tr><tr><td>Elizabeth Mccann</td></tr><tr><td>Jeremy Smith</td></tr><tr><td>Ruth Smith</td></tr><tr><td>Mary Dunn</td></tr><tr><td>Mary Wilson</td></tr><tr><td>Mary Harding</td></tr><tr><td>Mary Berry</td></tr><tr><td>Mary Kaiser</td></tr><tr><td>Evelyn Smith</td></tr><tr><td>Virginia Walker</td></tr><tr><td>Michelle Rose</td></tr><tr><td>Michelle Bennett</td></tr></tbody></table></div>"
      ]
     },
     "metadata": {
      "application/vnd.databricks.v1+output": {
       "addedWidgets": {},
       "aggData": [],
       "aggError": "",
       "aggOverflow": false,
       "aggSchema": [],
       "aggSeriesLimitReached": false,
       "aggType": "",
       "arguments": {},
       "columnCustomDisplayInfos": {},
       "data": [
        [
         "Elizabeth Ball"
        ],
        [
         "Mary Patel"
        ],
        [
         "Mary Baird"
        ],
        [
         "Sandra Smith"
        ],
        [
         "Christina Walsh"
        ],
        [
         "Arthur Fisher"
        ],
        [
         "Mary Patterson"
        ],
        [
         "Raymond Richards"
        ],
        [
         "Christopher Smith"
        ],
        [
         "Janice Novak"
        ],
        [
         "Dylan Butler"
        ],
        [
         "Juan Smith"
        ],
        [
         "Carolyn Smith"
        ],
        [
         "Mary Dyer"
        ],
        [
         "Lori Smith"
        ],
        [
         "Mary Fry"
        ],
        [
         "Walter Hughes"
        ],
        [
         "Tammy Smith"
        ],
        [
         "Edward Smith"
        ],
        [
         "Patricia Serrano"
        ],
        [
         "Mary Lopez"
        ],
        [
         "Marilyn Diaz"
        ],
        [
         "Roy Smith"
        ],
        [
         "Richard Richmond"
        ],
        [
         "Mary Smith"
        ],
        [
         "Brittany French"
        ],
        [
         "Mary Jimenez"
        ],
        [
         "Amy Smith"
        ],
        [
         "Mary Sandoval"
        ],
        [
         "Peter Bray"
        ],
        [
         "Kathryn Marshall"
        ],
        [
         "Sharon Smith"
        ],
        [
         "Christine Rodriguez"
        ],
        [
         "Alice Russo"
        ],
        [
         "Mary Garner"
        ],
        [
         "Jack Smith"
        ],
        [
         "Stephen Smith"
        ],
        [
         "Dennis Smith"
        ],
        [
         "Charles Mason"
        ],
        [
         "Mary Durham"
        ],
        [
         "Mary Fuller"
        ],
        [
         "Mary Mitchell"
        ],
        [
         "David Phillips"
        ],
        [
         "Sarah Smith"
        ],
        [
         "Willie Smith"
        ],
        [
         "Mary Lucero"
        ],
        [
         "Kathryn Smith"
        ],
        [
         "Larry Smith"
        ],
        [
         "Jonathan Cook"
        ],
        [
         "Richard Smith"
        ],
        [
         "Henry Turner"
        ],
        [
         "Patrick Smith"
        ],
        [
         "Nancy Gilbert"
        ],
        [
         "Austin Smith"
        ],
        [
         "Christopher Sloan"
        ],
        [
         "Denise Smith"
        ],
        [
         "Stephen Lee"
        ],
        [
         "Megan Lynch"
        ],
        [
         "Jose Smith"
        ],
        [
         "Joe Smith"
        ],
        [
         "Mary Bentley"
        ],
        [
         "Donald Odom"
        ],
        [
         "Mary Ortega"
        ],
        [
         "Janice Smith"
        ],
        [
         "Jason Dalton"
        ],
        [
         "Steven Smith"
        ],
        [
         "Rebecca Watkins"
        ],
        [
         "Paul Hancock"
        ],
        [
         "Frances Smith"
        ],
        [
         "Mary Rose"
        ],
        [
         "Melissa Powell"
        ],
        [
         "Margaret Villa"
        ],
        [
         "Kimberly Irwin"
        ],
        [
         "Janet Norton"
        ],
        [
         "Mary Little"
        ],
        [
         "Mary Sanders"
        ],
        [
         "Lisa Hudson"
        ],
        [
         "Ashley Palmer"
        ],
        [
         "Mary Bell"
        ],
        [
         "Mary Friedman"
        ],
        [
         "Mary Contreras"
        ],
        [
         "Mary Khan"
        ],
        [
         "Joyce Smith"
        ],
        [
         "David Garrison"
        ],
        [
         "Thomas Gray"
        ],
        [
         "Diana Hale"
        ],
        [
         "Lauren Smith"
        ],
        [
         "Mary Sweeney"
        ],
        [
         "Martha Burnett"
        ],
        [
         "Mary Weeks"
        ],
        [
         "Patricia Smith"
        ],
        [
         "Dorothy Smith"
        ],
        [
         "Mary White"
        ],
        [
         "James Coleman"
        ],
        [
         "Melissa Smith"
        ],
        [
         "Jason Dixon"
        ],
        [
         "Linda Walters"
        ],
        [
         "Matthew Smith"
        ],
        [
         "Mary Mclaughlin"
        ],
        [
         "Mary Brown"
        ],
        [
         "Mary Bowers"
        ],
        [
         "Roger Oliver"
        ],
        [
         "Adam Marquez"
        ],
        [
         "Amanda Smith"
        ],
        [
         "Edward Dennis"
        ],
        [
         "Walter Smith"
        ],
        [
         "Michael Hayes"
        ],
        [
         "Mary Reyes"
        ],
        [
         "Michelle Smith"
        ],
        [
         "Carol Smith"
        ],
        [
         "Mary Payne"
        ],
        [
         "Katherine Lawrence"
        ],
        [
         "Howard Lee"
        ],
        [
         "Mary Robinson"
        ],
        [
         "Andrew Rasmussen"
        ],
        [
         "Nicole Powers"
        ],
        [
         "Mary Nolan"
        ],
        [
         "Ronald Wilson"
        ],
        [
         "Lisa Keith"
        ],
        [
         "Linda Rojas"
        ],
        [
         "Mary George"
        ],
        [
         "Mary Griffith"
        ],
        [
         "Matthew Love"
        ],
        [
         "Margaret Melton"
        ],
        [
         "Diane Zimmerman"
        ],
        [
         "Christina Nelson"
        ],
        [
         "Albert Smith"
        ],
        [
         "Mary Welch"
        ],
        [
         "Mary Burch"
        ],
        [
         "Ronald Smith"
        ],
        [
         "Janice Carpenter"
        ],
        [
         "Kimberly Blair"
        ],
        [
         "Robert Richardson"
        ],
        [
         "Jason Smith"
        ],
        [
         "Roger Smith"
        ],
        [
         "Timothy Smith"
        ],
        [
         "Angela Smith"
        ],
        [
         "Dorothy Frye"
        ],
        [
         "Ashley Smith"
        ],
        [
         "Elizabeth Smith"
        ],
        [
         "Jacob Smith"
        ],
        [
         "Tyler Thompson"
        ],
        [
         "Joshua Mullins"
        ],
        [
         "Larry Henderson"
        ],
        [
         "Frances Holmes"
        ],
        [
         "Robert Smith"
        ],
        [
         "Raymond Santana"
        ],
        [
         "Nancy Mata"
        ],
        [
         "Phillip Smith"
        ],
        [
         "John Smith"
        ],
        [
         "Jose Casey"
        ],
        [
         "Mary Howard"
        ],
        [
         "Julie Santiago"
        ],
        [
         "Evelyn Wilson"
        ],
        [
         "Amy Compton"
        ],
        [
         "Mary Conrad"
        ],
        [
         "Jack James"
        ],
        [
         "Gary Shaffer"
        ],
        [
         "Donald Nelson"
        ],
        [
         "Brandon Stephens"
        ],
        [
         "Mary Roberts"
        ],
        [
         "David Smith"
        ],
        [
         "Mary Newman"
        ],
        [
         "Justin Smith"
        ],
        [
         "Mary Castillo"
        ],
        [
         "Mary Andrews"
        ],
        [
         "Alice Werner"
        ],
        [
         "Carolyn Price"
        ],
        [
         "Brenda Higgins"
        ],
        [
         "Matthew Fields"
        ],
        [
         "Larry Waller"
        ],
        [
         "Benjamin Cole"
        ],
        [
         "Donald Sampson"
        ],
        [
         "Bobby Bean"
        ],
        [
         "Emma Calderon"
        ],
        [
         "Virginia Sanders"
        ],
        [
         "Mary Morgan"
        ],
        [
         "Madison Smith"
        ],
        [
         "Mary Dean"
        ],
        [
         "John Fuentes"
        ],
        [
         "Mary Marshall"
        ],
        [
         "Mary Hodges"
        ],
        [
         "Mary Wright"
        ],
        [
         "Mary Moody"
        ],
        [
         "Shirley Perez"
        ],
        [
         "Mary Ross"
        ],
        [
         "Jack Christian"
        ],
        [
         "Nicholas Wright"
        ],
        [
         "Deborah Barber"
        ],
        [
         "Mary Mcgee"
        ],
        [
         "Mary Simmons"
        ],
        [
         "Gary Smith"
        ],
        [
         "Ryan Smith"
        ],
        [
         "Jane Day"
        ],
        [
         "Mary Harris"
        ],
        [
         "Mary Collier"
        ],
        [
         "John Jacobs"
        ],
        [
         "Donna Bautista"
        ],
        [
         "Mary Fletcher"
        ],
        [
         "Mary Morrison"
        ],
        [
         "Hannah Marshall"
        ],
        [
         "Mary Gonzalez"
        ],
        [
         "Jonathan Smith"
        ],
        [
         "Mary Herman"
        ],
        [
         "Mary Burton"
        ],
        [
         "Jane Smith"
        ],
        [
         "Mary Collins"
        ],
        [
         "Jeremy Washington"
        ],
        [
         "Billy Thompson"
        ],
        [
         "Kimberly Campos"
        ],
        [
         "Mary Moore"
        ],
        [
         "Mary Hardy"
        ],
        [
         "John Johnson"
        ],
        [
         "Brittany Henry"
        ],
        [
         "Mary Johnson"
        ],
        [
         "Sean Navarro"
        ],
        [
         "James Smith"
        ],
        [
         "Mary Decker"
        ],
        [
         "Amber Smith"
        ],
        [
         "Hannah Smith"
        ],
        [
         "Debra Smith"
        ],
        [
         "Ann Smith"
        ],
        [
         "Kenneth Smith"
        ],
        [
         "Tiffany Greer"
        ],
        [
         "Sean Smith"
        ],
        [
         "Mary Chung"
        ],
        [
         "Bruce Horton"
        ],
        [
         "Mary Short"
        ],
        [
         "Emma Noble"
        ],
        [
         "Kimberly Sweeney"
        ],
        [
         "Walter Fuller"
        ],
        [
         "Amber Anderson"
        ],
        [
         "Barbara Johnston"
        ],
        [
         "Mary Bauer"
        ],
        [
         "Mary Shepherd"
        ],
        [
         "Bryan Ramos"
        ],
        [
         "Janet Wallace"
        ],
        [
         "Joyce Leblanc"
        ],
        [
         "Deborah Smith"
        ],
        [
         "Brian Mitchell"
        ],
        [
         "Roy Merritt"
        ],
        [
         "Jesse Smith"
        ],
        [
         "Anna Smith"
        ],
        [
         "Michael Wiley"
        ],
        [
         "Laura Smith"
        ],
        [
         "Lisa Shaw"
        ],
        [
         "Cynthia Garcia"
        ],
        [
         "Mary Nelson"
        ],
        [
         "Mary Bishop"
        ],
        [
         "Brandon Fitzgerald"
        ],
        [
         "Thomas Moore"
        ],
        [
         "Mary Krueger"
        ],
        [
         "Rose Pena"
        ],
        [
         "Wayne Hardy"
        ],
        [
         "Elizabeth Mcpherson"
        ],
        [
         "Mary Meza"
        ],
        [
         "Ashley Powell"
        ],
        [
         "Donald Smith"
        ],
        [
         "Ashley Gordon"
        ],
        [
         "Douglas Washington"
        ],
        [
         "Helen Smith"
        ],
        [
         "Cynthia Smith"
        ],
        [
         "Arthur Li"
        ],
        [
         "Mary Robertson"
        ],
        [
         "Margaret Smith"
        ],
        [
         "Mary Key"
        ],
        [
         "Mary Chapman"
        ],
        [
         "Michelle Terry"
        ],
        [
         "Gary Baker"
        ],
        [
         "Mary Jones"
        ],
        [
         "Willie Galvan"
        ],
        [
         "Rose Wyatt"
        ],
        [
         "Lawrence Smith"
        ],
        [
         "Louis Smith"
        ],
        [
         "Joseph Brooks"
        ],
        [
         "Diana Shepherd"
        ],
        [
         "Betty Spears"
        ],
        [
         "Mary Silva"
        ],
        [
         "Maria Jordan"
        ],
        [
         "Mary Avery"
        ],
        [
         "Charles Smith"
        ],
        [
         "Angela Peterson"
        ],
        [
         "Henry Roman"
        ],
        [
         "Kyle Edwards"
        ],
        [
         "Mary Webb"
        ],
        [
         "Mary Gutierrez"
        ],
        [
         "Mary Morris"
        ],
        [
         "Mary Frazier"
        ],
        [
         "Julia Smith"
        ],
        [
         "Heather Romero"
        ],
        [
         "Larry Patel"
        ],
        [
         "Mary Rivera"
        ],
        [
         "Daniel Smith"
        ],
        [
         "Mary Hopkins"
        ],
        [
         "Paul Shelton"
        ],
        [
         "Sara Cisneros"
        ],
        [
         "Theresa Wiggins"
        ],
        [
         "Brenda Evans"
        ],
        [
         "Wayne Bryant"
        ],
        [
         "Jose Wright"
        ],
        [
         "Donna Hoover"
        ],
        [
         "Nicholas Herman"
        ],
        [
         "Janet Sampson"
        ],
        [
         "Judy Smith"
        ],
        [
         "Thomas Whitney"
        ],
        [
         "Benjamin Smith"
        ],
        [
         "Marilyn Wu"
        ],
        [
         "Barbara Smith"
        ],
        [
         "Joshua Smith"
        ],
        [
         "Mary Watson"
        ],
        [
         "George Smith"
        ],
        [
         "Harold Johnson"
        ],
        [
         "Christina Ewing"
        ],
        [
         "Jesse Fields"
        ],
        [
         "Elizabeth Mccann"
        ],
        [
         "Jeremy Smith"
        ],
        [
         "Ruth Smith"
        ],
        [
         "Mary Dunn"
        ],
        [
         "Mary Wilson"
        ],
        [
         "Mary Harding"
        ],
        [
         "Mary Berry"
        ],
        [
         "Mary Kaiser"
        ],
        [
         "Evelyn Smith"
        ],
        [
         "Virginia Walker"
        ],
        [
         "Michelle Rose"
        ],
        [
         "Michelle Bennett"
        ]
       ],
       "datasetInfos": [],
       "dbfsResultPath": null,
       "isJsonSchema": true,
       "metadata": {
        "dataframeName": "_sqldf",
        "executionCount": 37
       },
       "overflow": false,
       "plotOptions": {
        "customPlotOptions": {},
        "displayType": "table",
        "pivotAggregation": null,
        "pivotColumns": null,
        "xColumns": null,
        "yColumns": null
       },
       "removedWidgets": [],
       "schema": [
        {
         "metadata": "{}",
         "name": "customer_name",
         "type": "\"string\""
        }
       ],
       "type": "table"
      }
     },
     "output_type": "display_data"
    }
   ],
   "source": [
    "%sql\n",
    "select distinct customer_name from reporting_view where customer_state='TX' and order_status='COMPLETE' and order_year='2014';"
   ]
  },
  {
   "cell_type": "code",
   "execution_count": null,
   "metadata": {
    "application/vnd.databricks.v1+cell": {
     "cellMetadata": {
      "byteLimit": 2048000,
      "rowLimit": 10000
     },
     "inputWidgets": {},
     "nuid": "164868ad-f5c2-4001-9136-5887fdc3160c",
     "showTitle": false,
     "title": ""
    }
   },
   "outputs": [
    {
     "data": {
      "text/html": [
       "<div class = \"ansiout\"><b>dbutils.widgets</b> provides utilities for working with notebook widgets. You can create\n",
       "different types of widgets and get their bound value.\n",
       "\n",
       "For more info about a method, use <b>dbutils.widgets.help(\"methodName\")</b>.\n",
       "    <h3></h3><b>combobox(name: String, defaultValue: String, choices: Seq, label: String): void</b> -> Creates a combobox input widget with a given name, default value and choices<br /><b>dropdown(name: String, defaultValue: String, choices: Seq, label: String): void</b> -> Creates a dropdown input widget a with given name, default value and choices<br /><b>get(name: String): String</b> -> Retrieves current value of an input widget<br /><b>getArgument(name: String, optional: String): String</b> -> (DEPRECATED) Equivalent to get<br /><b>multiselect(name: String, defaultValue: String, choices: Seq, label: String): void</b> -> Creates a multiselect input widget with a given name, default value and choices<br /><b>remove(name: String): void</b> -> Removes an input widget from the notebook<br /><b>removeAll: void</b> -> Removes all widgets in the notebook<br /><b>text(name: String, defaultValue: String, label: String): void</b> -> Creates a text input widget with a given name and default value<br /><br /></div>"
      ]
     },
     "metadata": {},
     "output_type": "display_data"
    }
   ],
   "source": [
    "dbutils.widgets.help()"
   ]
  },
  {
   "cell_type": "code",
   "execution_count": null,
   "metadata": {
    "application/vnd.databricks.v1+cell": {
     "cellMetadata": {
      "byteLimit": 2048000,
      "rowLimit": 10000
     },
     "inputWidgets": {},
     "nuid": "afca1179-c8be-4e57-9e24-91233ec83188",
     "showTitle": false,
     "title": ""
    }
   },
   "outputs": [],
   "source": [
    "states_df = spark.sql(\"select distinct customer_state from reporting_view\")"
   ]
  },
  {
   "cell_type": "code",
   "execution_count": null,
   "metadata": {
    "application/vnd.databricks.v1+cell": {
     "cellMetadata": {
      "byteLimit": 2048000,
      "rowLimit": 10000
     },
     "inputWidgets": {},
     "nuid": "cf046796-b34e-4e74-8797-c1c952610f39",
     "showTitle": false,
     "title": ""
    }
   },
   "outputs": [
    {
     "name": "stdout",
     "output_type": "stream",
     "text": [
      "+--------------+\n",
      "|customer_state|\n",
      "+--------------+\n",
      "|            NV|\n",
      "|            CA|\n",
      "|            IL|\n",
      "|            PA|\n",
      "|            NY|\n",
      "|            TX|\n",
      "|            FL|\n",
      "|            PR|\n",
      "|            AZ|\n",
      "|            VA|\n",
      "|            MI|\n",
      "|            OH|\n",
      "|            CO|\n",
      "|            MN|\n",
      "|            DC|\n",
      "|            MD|\n",
      "|            TN|\n",
      "|            HI|\n",
      "|            LA|\n",
      "|            OR|\n",
      "+--------------+\n",
      "only showing top 20 rows\n",
      "\n"
     ]
    }
   ],
   "source": [
    "states_df.show()"
   ]
  },
  {
   "cell_type": "code",
   "execution_count": null,
   "metadata": {
    "application/vnd.databricks.v1+cell": {
     "cellMetadata": {
      "byteLimit": 2048000,
      "rowLimit": 10000
     },
     "inputWidgets": {},
     "nuid": "4e626aed-a12e-47ed-9196-c986aebbda30",
     "showTitle": false,
     "title": ""
    }
   },
   "outputs": [],
   "source": [
    "states_list = df.rdd.flatMap(lambda x: x).collect() "
   ]
  },
  {
   "cell_type": "code",
   "execution_count": null,
   "metadata": {
    "application/vnd.databricks.v1+cell": {
     "cellMetadata": {
      "byteLimit": 2048000,
      "rowLimit": 10000
     },
     "inputWidgets": {},
     "nuid": "1e72c812-245a-41b8-adc6-b560b59cc4f5",
     "showTitle": false,
     "title": ""
    }
   },
   "outputs": [],
   "source": [
    "dbutils.widgets.dropdown(name='state_input',defaultValue='TX',choices = states_list, label=\"State:\")"
   ]
  },
  {
   "cell_type": "code",
   "execution_count": null,
   "metadata": {
    "application/vnd.databricks.v1+cell": {
     "cellMetadata": {
      "byteLimit": 2048000,
      "rowLimit": 10000
     },
     "inputWidgets": {},
     "nuid": "8c4e92a3-07a4-4ddb-9eed-2a2a65272474",
     "showTitle": false,
     "title": ""
    }
   },
   "outputs": [],
   "source": [
    "dbutils.widgets.dropdown(name='status_input',defaultValue='COMPLETE',choices=['COMPLETE','PENDING_PAYMENT','CLOSED','PROCESSING'],label=\"Status:\")"
   ]
  },
  {
   "cell_type": "code",
   "execution_count": null,
   "metadata": {
    "application/vnd.databricks.v1+cell": {
     "cellMetadata": {
      "byteLimit": 2048000,
      "rowLimit": 10000
     },
     "inputWidgets": {},
     "nuid": "1ead2db2-1ab9-44c9-9cb0-31a83e38f2a6",
     "showTitle": false,
     "title": ""
    }
   },
   "outputs": [],
   "source": [
    "dbutils.widgets.text(name='year_input',defaultValue='2014',label=\"Year:\")"
   ]
  },
  {
   "cell_type": "code",
   "execution_count": null,
   "metadata": {
    "application/vnd.databricks.v1+cell": {
     "cellMetadata": {
      "byteLimit": 2048000,
      "rowLimit": 10000
     },
     "inputWidgets": {},
     "nuid": "c4984cba-e9cc-4fb0-8665-2f4c9451c2a7",
     "showTitle": false,
     "title": ""
    }
   },
   "outputs": [],
   "source": [
    "state = dbutils.widgets.get('state_input')"
   ]
  },
  {
   "cell_type": "code",
   "execution_count": null,
   "metadata": {
    "application/vnd.databricks.v1+cell": {
     "cellMetadata": {
      "byteLimit": 2048000,
      "rowLimit": 10000
     },
     "inputWidgets": {},
     "nuid": "a8c9dfdc-76a6-40d7-a46d-e08bc8b60867",
     "showTitle": false,
     "title": ""
    }
   },
   "outputs": [],
   "source": [
    "status = dbutils.widgets.get('status_input')"
   ]
  },
  {
   "cell_type": "code",
   "execution_count": null,
   "metadata": {
    "application/vnd.databricks.v1+cell": {
     "cellMetadata": {
      "byteLimit": 2048000,
      "rowLimit": 10000
     },
     "inputWidgets": {},
     "nuid": "8f5167c1-ec5a-427c-93f4-a9c3dd075bfe",
     "showTitle": false,
     "title": ""
    }
   },
   "outputs": [],
   "source": [
    "year = dbutils.widgets.get('year_input')"
   ]
  },
  {
   "cell_type": "code",
   "execution_count": null,
   "metadata": {
    "application/vnd.databricks.v1+cell": {
     "cellMetadata": {
      "byteLimit": 2048000,
      "rowLimit": 10000
     },
     "inputWidgets": {},
     "nuid": "3de6abfc-2405-48ab-8ed2-41a3a9e69a57",
     "showTitle": false,
     "title": ""
    }
   },
   "outputs": [
    {
     "name": "stdout",
     "output_type": "stream",
     "text": [
      "+-------------------+\n",
      "|      customer_name|\n",
      "+-------------------+\n",
      "|         Mary Patel|\n",
      "|         Mary Baird|\n",
      "|       Sandra Smith|\n",
      "|      Arthur Fisher|\n",
      "|       Janice Novak|\n",
      "|         Juan Smith|\n",
      "|         Lori Smith|\n",
      "|         Mary Lopez|\n",
      "|          Roy Smith|\n",
      "|        Helen Gomez|\n",
      "|   Richard Richmond|\n",
      "|         Mary Smith|\n",
      "|        Keith Smith|\n",
      "|       Mary Jimenez|\n",
      "|         Peter Bray|\n",
      "|         Helen Ward|\n",
      "|Christine Rodriguez|\n",
      "|        Mary Garner|\n",
      "|      William Smith|\n",
      "|      Stephen Smith|\n",
      "+-------------------+\n",
      "only showing top 20 rows\n",
      "\n"
     ]
    }
   ],
   "source": [
    "spark.sql(f\"Select distinct customer_name from reporting_view where customer_state='{state}' and order_status='{status}' and order_year='{year}'\").show()"
   ]
  },
  {
   "cell_type": "code",
   "execution_count": null,
   "metadata": {
    "application/vnd.databricks.v1+cell": {
     "cellMetadata": {
      "byteLimit": 2048000,
      "rowLimit": 10000
     },
     "inputWidgets": {},
     "nuid": "fde0d4c0-577b-4b47-8cd4-c8f954ba6e50",
     "showTitle": false,
     "title": ""
    }
   },
   "outputs": [],
   "source": [
    "dbutils.widgets.dropdown(name='month',defaultValue='1',choices=[str(i) for i in range(1,13)],label='Month:')"
   ]
  },
  {
   "cell_type": "code",
   "execution_count": null,
   "metadata": {
    "application/vnd.databricks.v1+cell": {
     "cellMetadata": {
      "byteLimit": 2048000,
      "rowLimit": 10000
     },
     "inputWidgets": {},
     "nuid": "bcdf44de-a730-4d53-8916-2455e9c059a7",
     "showTitle": false,
     "title": ""
    }
   },
   "outputs": [],
   "source": [
    "month=dbutils.widgets.get('month')"
   ]
  },
  {
   "cell_type": "code",
   "execution_count": null,
   "metadata": {
    "application/vnd.databricks.v1+cell": {
     "cellMetadata": {
      "byteLimit": 2048000,
      "rowLimit": 10000
     },
     "inputWidgets": {},
     "nuid": "3f514af5-afac-4ce1-9601-e6f552be501a",
     "showTitle": false,
     "title": ""
    }
   },
   "outputs": [
    {
     "name": "stdout",
     "output_type": "stream",
     "text": [
      "+---------------+\n",
      "|total_customers|\n",
      "+---------------+\n",
      "|            118|\n",
      "+---------------+\n",
      "\n"
     ]
    }
   ],
   "source": [
    "spark.sql(f\"select count(*) as total_customers from reporting_view where order_month='{month}' and order_status='{status}' and order_year='{year}' and customer_state='{state}'\").show()"
   ]
  }
 ],
 "metadata": {
  "application/vnd.databricks.v1+notebook": {
   "dashboards": [],
   "language": "python",
   "notebookMetadata": {
    "mostRecentlyExecutedCommandWithImplicitDF": {
     "commandId": 3192511543475643,
     "dataframes": [
      "_sqldf"
     ]
    },
    "pythonIndentUnit": 4
   },
   "notebookName": "Orders_data_ETL",
   "widgets": {
    "month": {
     "currentValue": "3",
     "nuid": "1c5fc0b8-8631-425a-8089-5ec2863b24ea",
     "widgetInfo": {
      "defaultValue": "1",
      "label": "Month:",
      "name": "month",
      "options": {
       "choices": [
        "1",
        "2",
        "3",
        "4",
        "5",
        "6",
        "7",
        "8",
        "9",
        "10",
        "11",
        "12"
       ],
       "widgetType": "dropdown"
      },
      "widgetType": "dropdown"
     }
    },
    "state_input": {
     "currentValue": "TX",
     "nuid": "fa1c31e5-e37f-491d-a2f0-4885eff69332",
     "widgetInfo": {
      "defaultValue": "TX",
      "label": "State:",
      "name": "state_input",
      "options": {
       "choices": [
        "NV",
        "CA",
        "IL",
        "PA",
        "NY",
        "TX",
        "FL",
        "PR",
        "AZ",
        "VA",
        "MI",
        "OH",
        "CO",
        "MN",
        "DC",
        "MD",
        "TN",
        "HI",
        "LA",
        "OR",
        "MO",
        "NM",
        "GA",
        "UT",
        "NJ",
        "DE",
        "WI",
        "NC",
        "KY",
        "WA",
        "KS",
        "MA",
        "SC",
        "IN",
        "CT",
        "WV",
        "ID",
        "RI",
        "OK",
        "ND",
        "MT",
        "AR",
        "IA",
        "AL"
       ],
       "widgetType": "dropdown"
      },
      "widgetType": "dropdown"
     }
    },
    "status_input": {
     "currentValue": "COMPLETE",
     "nuid": "a5f40ed0-5e35-4d08-8b61-53df4a61b790",
     "widgetInfo": {
      "defaultValue": "COMPLETE",
      "label": "Status:",
      "name": "status_input",
      "options": {
       "choices": [
        "COMPLETE",
        "PENDING_PAYMENT",
        "CLOSED",
        "PROCESSING"
       ],
       "widgetType": "dropdown"
      },
      "widgetType": "dropdown"
     }
    },
    "year_input": {
     "currentValue": "2014",
     "nuid": "0cff78a4-0dc1-475c-9a2f-c30538a2d28d",
     "widgetInfo": {
      "defaultValue": "2014",
      "label": "Year:",
      "name": "year_input",
      "options": {
       "validationRegex": null,
       "widgetType": "text"
      },
      "widgetType": "text"
     }
    }
   }
  },
  "language_info": {
   "name": "python"
  }
 },
 "nbformat": 4,
 "nbformat_minor": 0
}
